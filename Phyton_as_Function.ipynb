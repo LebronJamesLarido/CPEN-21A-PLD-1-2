{
  "nbformat": 4,
  "nbformat_minor": 0,
  "metadata": {
    "colab": {
      "provenance": [],
      "authorship_tag": "ABX9TyM2MviJdPGqFwf2PwwR1uv7",
      "include_colab_link": true
    },
    "kernelspec": {
      "name": "python3",
      "display_name": "Python 3"
    },
    "language_info": {
      "name": "python"
    }
  },
  "cells": [
    {
      "cell_type": "markdown",
      "metadata": {
        "id": "view-in-github",
        "colab_type": "text"
      },
      "source": [
        "<a href=\"https://colab.research.google.com/github/LebronJamesLarido/CPEN-21A-PLD-1-2/blob/main/Phyton_as_Function.ipynb\" target=\"_parent\"><img src=\"https://colab.research.google.com/assets/colab-badge.svg\" alt=\"Open In Colab\"/></a>"
      ]
    },
    {
      "cell_type": "code",
      "source": [
        "#Function Calls\n",
        "\n",
        "abs(-4.5)\n"
      ],
      "metadata": {
        "colab": {
          "base_uri": "https://localhost:8080/"
        },
        "id": "VrB9QBAGjDo_",
        "outputId": "bb8ba692-0400-4d4b-9c89-d630dfc39bad"
      },
      "execution_count": null,
      "outputs": [
        {
          "output_type": "execute_result",
          "data": {
            "text/plain": [
              "4.5"
            ]
          },
          "metadata": {},
          "execution_count": 4
        }
      ]
    },
    {
      "cell_type": "code",
      "source": [
        "#Function Calls other function\n",
        "\n",
        "pow(abs(-2), round(4.5))  #pow(2,4)"
      ],
      "metadata": {
        "colab": {
          "base_uri": "https://localhost:8080/"
        },
        "id": "ctcinz-qjUHV",
        "outputId": "6607c46b-1eb6-41d5-c299-5f32ce6deb84"
      },
      "execution_count": null,
      "outputs": [
        {
          "output_type": "execute_result",
          "data": {
            "text/plain": [
              "16"
            ]
          },
          "metadata": {},
          "execution_count": 5
        }
      ]
    },
    {
      "cell_type": "code",
      "source": [
        "#Type Functions\n",
        "\n",
        "int(4.5)\n",
        "float(4)"
      ],
      "metadata": {
        "colab": {
          "base_uri": "https://localhost:8080/"
        },
        "id": "tWpm2pfdkBN5",
        "outputId": "bbd8abb6-87b0-43cc-a9b7-b7d13c2c8763"
      },
      "execution_count": null,
      "outputs": [
        {
          "output_type": "execute_result",
          "data": {
            "text/plain": [
              "4.0"
            ]
          },
          "metadata": {},
          "execution_count": 6
        }
      ]
    },
    {
      "cell_type": "code",
      "source": [
        "\n",
        "\n",
        "def convert_to_celsius(fahrenheit):\n",
        "    celsius = (fahrenheit-32)*5/9\n",
        "    return celsius\n",
        "\n",
        "fahrenheit = float(input(\"Enter your number to fahrenheit:\"))\n",
        " \n",
        "f=convert_to_celsius(fahrenheit)\n",
        "print(round(f,2))"
      ],
      "metadata": {
        "colab": {
          "base_uri": "https://localhost:8080/"
        },
        "id": "lb08XZwWptGq",
        "outputId": "6178d1ae-00d2-4cd1-d7f7-7b076f61c933"
      },
      "execution_count": null,
      "outputs": [
        {
          "output_type": "stream",
          "name": "stdout",
          "text": [
            "Enter your number to fahrenheit:100\n",
            "37.78\n"
          ]
        }
      ]
    },
    {
      "cell_type": "markdown",
      "source": [
        "EXERCISE\n"
      ],
      "metadata": {
        "id": "EHbhqmhP4NSI"
      }
    },
    {
      "cell_type": "markdown",
      "source": [
        "a. min(2,3,4)"
      ],
      "metadata": {
        "id": "eiUXkI_o4vjf"
      }
    },
    {
      "cell_type": "code",
      "source": [
        "result = min(2, 3, 4)\n",
        "print(result)"
      ],
      "metadata": {
        "colab": {
          "base_uri": "https://localhost:8080/"
        },
        "id": "qPZb3OPq4PGo",
        "outputId": "37b61cdb-440e-4559-85a3-46a6d6296075"
      },
      "execution_count": 6,
      "outputs": [
        {
          "output_type": "stream",
          "name": "stdout",
          "text": [
            "2\n"
          ]
        }
      ]
    },
    {
      "cell_type": "markdown",
      "source": [
        "b. max(2,-3,4,7,-5)\n"
      ],
      "metadata": {
        "id": "csgCkxtt44KP"
      }
    },
    {
      "cell_type": "code",
      "source": [
        "result = max(2,-3,4,7,-5)\n",
        "print(result)"
      ],
      "metadata": {
        "colab": {
          "base_uri": "https://localhost:8080/"
        },
        "id": "3I1dpmGY4-KY",
        "outputId": "8bbbed33-c4d3-43b3-820f-c90cf76d05a2"
      },
      "execution_count": 5,
      "outputs": [
        {
          "output_type": "stream",
          "name": "stdout",
          "text": [
            "7\n"
          ]
        }
      ]
    },
    {
      "cell_type": "markdown",
      "source": [
        "c. max(2,-3, min(4,7)-5)\n"
      ],
      "metadata": {
        "id": "XgZIdcN95CWQ"
      }
    },
    {
      "cell_type": "code",
      "source": [
        "result = max(2,-3, min(4,7)-5)\n",
        "print(result)"
      ],
      "metadata": {
        "colab": {
          "base_uri": "https://localhost:8080/"
        },
        "id": "DoObZ7oW5eaK",
        "outputId": "70b24f34-f024-45e0-b628-aaf228c76874"
      },
      "execution_count": 4,
      "outputs": [
        {
          "output_type": "stream",
          "name": "stdout",
          "text": [
            "2\n"
          ]
        }
      ]
    }
  ]
}