{
  "nbformat": 4,
  "nbformat_minor": 0,
  "metadata": {
    "colab": {
      "provenance": [],
      "authorship_tag": "ABX9TyNSqeH1+n9C1nbH2S7dmfT9",
      "include_colab_link": true
    },
    "kernelspec": {
      "name": "python3",
      "display_name": "Python 3"
    },
    "language_info": {
      "name": "python"
    }
  },
  "cells": [
    {
      "cell_type": "markdown",
      "metadata": {
        "id": "view-in-github",
        "colab_type": "text"
      },
      "source": [
        "<a href=\"https://colab.research.google.com/github/LebronJamesLarido/CPEN-21A-PLD-1-2/blob/main/Object_and_Class.ipynb\" target=\"_parent\"><img src=\"https://colab.research.google.com/assets/colab-badge.svg\" alt=\"Open In Colab\"/></a>"
      ]
    },
    {
      "cell_type": "code",
      "source": [
        "class Person:\n",
        "  def __init__(self,name,age,birthdate):      #object and class constructor\n",
        "    self.name = name\n",
        "    self.age = age\n",
        "    self.birthdate = birthdate\n",
        "\n",
        "  def info(self):\n",
        "    return \"My personal info are all here\"    #method constructor\n",
        "\n",
        "class Student(Person):                        #inheritance\n",
        "  pass\n",
        "\n",
        "person = Person(\"Lebron James G. Larido\",18,\"April 17, 2004\") #naming object\n",
        "print(\"My name is:\",person.name)\n",
        "print(\"My age is:\",person.age)\n",
        "print(\"My birthdate is:\",person.birthdate)\n",
        "print(person.info())"
      ],
      "metadata": {
        "colab": {
          "base_uri": "https://localhost:8080/"
        },
        "id": "2iuxRLIf6rt9",
        "outputId": "f0dd6c3a-e192-498b-e9c6-7f69653def63"
      },
      "execution_count": 9,
      "outputs": [
        {
          "output_type": "stream",
          "name": "stdout",
          "text": [
            "My name is: Lebron James G. Larido\n",
            "My age is: 18\n",
            "My birthdate is: April 17, 2004\n",
            "My personal info are all here\n"
          ]
        }
      ]
    },
    {
      "cell_type": "markdown",
      "source": [
        "Exercise 1"
      ],
      "metadata": {
        "id": "2AnNx58g5_sd"
      }
    },
    {
      "cell_type": "code",
      "source": [
        "class Shape:\n",
        "    def __init__(self):\n",
        "        pass\n",
        "\n",
        "class Rectangle(Shape):\n",
        "    def __init__(self, length, width):\n",
        "        self.length = length\n",
        "        self.width = width\n",
        "    \n",
        "    def perimeter(self):\n",
        "        return 2 * (self.length + self.width)\n",
        "    \n",
        "    def area(self):\n",
        "        return self.length * self.width\n",
        "\n",
        "rectangle = Rectangle(10, 20)\n",
        "print(\"Perimeter:\", rectangle.perimeter())\n",
        "print(\"Area:\", rectangle.area())"
      ],
      "metadata": {
        "colab": {
          "base_uri": "https://localhost:8080/"
        },
        "id": "ag0XEqfC6lIu",
        "outputId": "e0b07e93-127b-4e92-cffd-80d8a7ea7c75"
      },
      "execution_count": 11,
      "outputs": [
        {
          "output_type": "stream",
          "name": "stdout",
          "text": [
            "Perimeter: 60\n",
            "Area: 200\n"
          ]
        }
      ]
    }
  ]
}